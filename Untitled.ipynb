{
 "cells": [
  {
   "cell_type": "markdown",
   "id": "1445b164-4fdf-4a81-8968-e4d9a984d79f",
   "metadata": {},
   "source": [
    "# PriceShop Project\n",
    "### Challenges :\n",
    "1. Scraping data from lazada without triggering bot detection\n",
    "2. Matching scraped product name with product key provided"
   ]
  },
  {
   "cell_type": "markdown",
   "id": "ed076764-b8c2-4a04-9fc1-78ac34a39b37",
   "metadata": {},
   "source": [
    "## Challenge 1\n",
    "\n",
    "- Unfortunately we were unable to bypass the fullscreen captcha but was able to bypass the small one.\n",
    "- We use selenium to scrape for the data from the links provided\n",
    "- Nothing special from the scraping side\n"
   ]
  },
  {
   "cell_type": "markdown",
   "id": "2a578d96-458c-4d5b-83a8-ecc49cc74698",
   "metadata": {},
   "source": [
    "## Challenge 2\n",
    "\n",
    "**Below is a sample of :**\n",
    "- Links provided\n",
    "- Output example\n",
    "- Product keys & some extra details"
   ]
  },
  {
   "cell_type": "code",
   "execution_count": 24,
   "id": "9712eeee-7706-423e-83e6-8358ec3e02e5",
   "metadata": {},
   "outputs": [
    {
     "name": "stdout",
     "output_type": "stream",
     "text": [
      "https://www.lazada.com.my/products/honor-magicbook-x15-i3-2021-space-grey-8gb-ram-256gb-original-1-year-warranty-by-honor-malaysia-i2608649455-s11730638464.html?mp=1&freeshipping=1\n",
      "https://www.lazada.com.my/products/huawei-matepad-t10s-23gb3264gb-original-huawei-malaysai-ready-stock-i2019269555.html\n",
      "https://www.lazada.com.my/products/huawei-nova-8i-8gb128gb-original-huawei-malaysia-nova-8i-i2324627088.html\n"
     ]
    }
   ],
   "source": [
    "import pandas as pd\n",
    "\n",
    "links = pd.read_csv(\"./selenium/Lazada Links.csv\")\n",
    "links.drop([\"Unnamed: 1\", \"Notes for cadets\"], axis=1, inplace=True)\n",
    "for i in range(3):\n",
    "    print(links[\"Lazada Link\"][i])"
   ]
  },
  {
   "cell_type": "code",
   "execution_count": 33,
   "id": "4db66fae-cd8b-427e-b6e0-797abad73651",
   "metadata": {},
   "outputs": [
    {
     "data": {
      "text/html": [
       "<div>\n",
       "<style scoped>\n",
       "    .dataframe tbody tr th:only-of-type {\n",
       "        vertical-align: middle;\n",
       "    }\n",
       "\n",
       "    .dataframe tbody tr th {\n",
       "        vertical-align: top;\n",
       "    }\n",
       "\n",
       "    .dataframe thead th {\n",
       "        text-align: right;\n",
       "    }\n",
       "</style>\n",
       "<table border=\"1\" class=\"dataframe\">\n",
       "  <thead>\n",
       "    <tr style=\"text-align: right;\">\n",
       "      <th></th>\n",
       "      <th>productURL</th>\n",
       "      <th>productName from URL</th>\n",
       "      <th>productVariant from URL</th>\n",
       "      <th>Stock Status from URL</th>\n",
       "      <th>price</th>\n",
       "      <th>PSproductKey</th>\n",
       "      <th>PSmodelName</th>\n",
       "      <th>Category</th>\n",
       "      <th>Notes for cadets</th>\n",
       "    </tr>\n",
       "  </thead>\n",
       "  <tbody>\n",
       "    <tr>\n",
       "      <th>0</th>\n",
       "      <td>https://www.lazada.com.my/products/apple-ipad-...</td>\n",
       "      <td>Apple iPad 10.2-inch 9th Gen Wi-Fi</td>\n",
       "      <td>256GB</td>\n",
       "      <td>NaN</td>\n",
       "      <td>MYR;2135</td>\n",
       "      <td>apple-ipad-10-2-2021-256gb-wi-fi</td>\n",
       "      <td>Apple iPad 10.2 (2021) (256GB) Wi-Fi</td>\n",
       "      <td>Tablet</td>\n",
       "      <td>You can also suggest 2 more product keys as se...</td>\n",
       "    </tr>\n",
       "    <tr>\n",
       "      <th>1</th>\n",
       "      <td>https://www.lazada.com.my/products/apple-ipad-...</td>\n",
       "      <td>Apple iPad 10.2-inch 9th Gen Wi-Fi</td>\n",
       "      <td>64GB</td>\n",
       "      <td>Out of stock</td>\n",
       "      <td>MYR;1435</td>\n",
       "      <td>apple-ipad-10-2-2021-64gb-wi-fi</td>\n",
       "      <td>Apple iPad 10.2 (2021) (64GB) Wi-Fi</td>\n",
       "      <td>Tablet</td>\n",
       "      <td>NaN</td>\n",
       "    </tr>\n",
       "  </tbody>\n",
       "</table>\n",
       "</div>"
      ],
      "text/plain": [
       "                                          productURL  \\\n",
       "0  https://www.lazada.com.my/products/apple-ipad-...   \n",
       "1  https://www.lazada.com.my/products/apple-ipad-...   \n",
       "\n",
       "                 productName from URL productVariant from URL  \\\n",
       "0  Apple iPad 10.2-inch 9th Gen Wi-Fi                   256GB   \n",
       "1  Apple iPad 10.2-inch 9th Gen Wi-Fi                    64GB   \n",
       "\n",
       "  Stock Status from URL     price                      PSproductKey  \\\n",
       "0                   NaN  MYR;2135  apple-ipad-10-2-2021-256gb-wi-fi   \n",
       "1          Out of stock  MYR;1435   apple-ipad-10-2-2021-64gb-wi-fi   \n",
       "\n",
       "                            PSmodelName Category  \\\n",
       "0  Apple iPad 10.2 (2021) (256GB) Wi-Fi   Tablet   \n",
       "1   Apple iPad 10.2 (2021) (64GB) Wi-Fi   Tablet   \n",
       "\n",
       "                                   Notes for cadets   \n",
       "0  You can also suggest 2 more product keys as se...  \n",
       "1                                                NaN  "
      ]
     },
     "execution_count": 33,
     "metadata": {},
     "output_type": "execute_result"
    }
   ],
   "source": [
    "output_example = pd.read_csv(\"./selenium/output example.csv\")\n",
    "output_example.head(2)"
   ]
  },
  {
   "cell_type": "code",
   "execution_count": 37,
   "id": "69b33cfc-2453-4512-90e4-5806d8a69232",
   "metadata": {},
   "outputs": [
    {
     "data": {
      "text/html": [
       "<div>\n",
       "<style scoped>\n",
       "    .dataframe tbody tr th:only-of-type {\n",
       "        vertical-align: middle;\n",
       "    }\n",
       "\n",
       "    .dataframe tbody tr th {\n",
       "        vertical-align: top;\n",
       "    }\n",
       "\n",
       "    .dataframe thead th {\n",
       "        text-align: right;\n",
       "    }\n",
       "</style>\n",
       "<table border=\"1\" class=\"dataframe\">\n",
       "  <thead>\n",
       "    <tr style=\"text-align: right;\">\n",
       "      <th></th>\n",
       "      <th>brand</th>\n",
       "      <th>PSmodelName</th>\n",
       "      <th>PSproductKey</th>\n",
       "      <th>category</th>\n",
       "    </tr>\n",
       "  </thead>\n",
       "  <tbody>\n",
       "    <tr>\n",
       "      <th>0</th>\n",
       "      <td>HONOR</td>\n",
       "      <td>HONOR View 20 (8+128GB)</td>\n",
       "      <td>honor-view-20-8-128gb</td>\n",
       "      <td>Mobile</td>\n",
       "    </tr>\n",
       "    <tr>\n",
       "      <th>1</th>\n",
       "      <td>HONOR</td>\n",
       "      <td>HONOR 9X Lite (4 + 128GB)</td>\n",
       "      <td>honor-9x-lite-4-128gb</td>\n",
       "      <td>Mobile</td>\n",
       "    </tr>\n",
       "    <tr>\n",
       "      <th>2</th>\n",
       "      <td>HONOR</td>\n",
       "      <td>HONOR 9X (6 + 128GB)</td>\n",
       "      <td>honor-9x-6-128gb</td>\n",
       "      <td>Mobile</td>\n",
       "    </tr>\n",
       "    <tr>\n",
       "      <th>3</th>\n",
       "      <td>HONOR</td>\n",
       "      <td>HONOR 8X Max (4+128GB)</td>\n",
       "      <td>honor-8x-max-4-plus-128gb</td>\n",
       "      <td>Mobile</td>\n",
       "    </tr>\n",
       "    <tr>\n",
       "      <th>4</th>\n",
       "      <td>HONOR</td>\n",
       "      <td>HONOR 8S (3+64GB)</td>\n",
       "      <td>honor-8s-3-64gb</td>\n",
       "      <td>Mobile</td>\n",
       "    </tr>\n",
       "  </tbody>\n",
       "</table>\n",
       "</div>"
      ],
      "text/plain": [
       "   brand                PSmodelName               PSproductKey category\n",
       "0  HONOR    HONOR View 20 (8+128GB)      honor-view-20-8-128gb   Mobile\n",
       "1  HONOR  HONOR 9X Lite (4 + 128GB)      honor-9x-lite-4-128gb   Mobile\n",
       "2  HONOR       HONOR 9X (6 + 128GB)           honor-9x-6-128gb   Mobile\n",
       "3  HONOR     HONOR 8X Max (4+128GB)  honor-8x-max-4-plus-128gb   Mobile\n",
       "4  HONOR          HONOR 8S (3+64GB)            honor-8s-3-64gb   Mobile"
      ]
     },
     "execution_count": 37,
     "metadata": {},
     "output_type": "execute_result"
    }
   ],
   "source": [
    "prodKey = pd.read_csv(\"./selenium/Product Key.csv\")\n",
    "prodKey.head()"
   ]
  },
  {
   "cell_type": "code",
   "execution_count": null,
   "id": "dfc613d4-4b92-4e82-a675-5e393f9953c6",
   "metadata": {},
   "outputs": [],
   "source": []
  },
  {
   "cell_type": "code",
   "execution_count": null,
   "id": "782c4d95-69ff-45c2-a97d-ee64b8287982",
   "metadata": {},
   "outputs": [],
   "source": []
  }
 ],
 "metadata": {
  "kernelspec": {
   "display_name": "Python 3 (ipykernel)",
   "language": "python",
   "name": "python3"
  },
  "language_info": {
   "codemirror_mode": {
    "name": "ipython",
    "version": 3
   },
   "file_extension": ".py",
   "mimetype": "text/x-python",
   "name": "python",
   "nbconvert_exporter": "python",
   "pygments_lexer": "ipython3",
   "version": "3.10.5"
  }
 },
 "nbformat": 4,
 "nbformat_minor": 5
}
